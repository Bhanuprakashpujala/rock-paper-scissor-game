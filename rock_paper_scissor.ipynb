{
 "cells": [
  {
   "cell_type": "code",
   "execution_count": 5,
   "id": "20bff255",
   "metadata": {},
   "outputs": [
    {
     "name": "stdout",
     "output_type": "stream",
     "text": [
      "eneter person1 choicescissor\n",
      "eneter the person2 choicerock\n",
      "scissoe can't be cut the rock @person2 wins\n"
     ]
    }
   ],
   "source": [
    "# creating rock-paper-scissor by using if condition.\n",
    "person1=input(\"eneter person1 choice\")\n",
    "person2=input(\"eneter the person2 choice\")\n",
    "if person1==\"rock\":\n",
    "    if person2==\"paper\":\n",
    "        print(\"paper holds rock @ person2 wins\")\n",
    "    elif person2==\"scissor\":\n",
    "        print(\"scissoe can't be cut the rock @person1 wins\")\n",
    "    elif person2==\"rock\":\n",
    "        print(\"oops u both choosen the same play again !\")\n",
    "elif person1==\"paper\":\n",
    "    if person2==\"rock\":\n",
    "           print(\"paper holds rock @ person1 wins\")\n",
    "    elif person2==\"scissor\":\n",
    "        print(\"scissor cuts the papers @person2 wins\")\n",
    "    elif person==\"paper\":\n",
    "        print(\"oops u both choosen the same play again !\")\n",
    "elif person1==\"scissor\":\n",
    "    if person2==\"rock\":\n",
    "        print(\"scissoe can't be cut the rock @person2 wins\")\n",
    "    elif person2==\"paper\":\n",
    "        print(\"scissor cuts the papers @person1 wins\")\n",
    "    elif person2==\"scissor\":\n",
    "        print(\"oops u both choosen the same play again !\")\n",
    "        "
   ]
  },
  {
   "cell_type": "code",
   "execution_count": null,
   "id": "3de174e0",
   "metadata": {},
   "outputs": [],
   "source": []
  }
 ],
 "metadata": {
  "kernelspec": {
   "display_name": "Python 3 (ipykernel)",
   "language": "python",
   "name": "python3"
  },
  "language_info": {
   "codemirror_mode": {
    "name": "ipython",
    "version": 3
   },
   "file_extension": ".py",
   "mimetype": "text/x-python",
   "name": "python",
   "nbconvert_exporter": "python",
   "pygments_lexer": "ipython3",
   "version": "3.9.13"
  }
 },
 "nbformat": 4,
 "nbformat_minor": 5
}
